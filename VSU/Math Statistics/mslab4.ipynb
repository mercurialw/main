{
 "cells": [
  {
   "cell_type": "code",
   "execution_count": 1,
   "id": "dfd1fe32-8ca8-4e7c-bc24-ab495dcca114",
   "metadata": {},
   "outputs": [],
   "source": [
    "import numpy as np\n",
    "import matplotlib.pyplot as plt\n",
    "import scipy.stats as scipy\n",
    "from scipy.stats import norm\n",
    "from scipy.stats import f\n",
    "from scipy.stats import chi2"
   ]
  },
  {
   "cell_type": "code",
   "execution_count": 2,
   "id": "fba86528-0441-4a89-a228-9eefd4acb776",
   "metadata": {},
   "outputs": [],
   "source": [
    "# ПУНКТ 1"
   ]
  },
  {
   "cell_type": "code",
   "execution_count": 3,
   "id": "6bd26134-73e0-4668-b4b1-95e6e5fbd705",
   "metadata": {},
   "outputs": [
    {
     "data": {
      "text/plain": [
       "<matplotlib.legend.Legend at 0x253715f4c50>"
      ]
     },
     "execution_count": 3,
     "metadata": {},
     "output_type": "execute_result"
    },
    {
     "data": {
      "image/png": "[encoded data removed]",
      "text/plain": [
       "<Figure size 640x480 with 1 Axes>"
      ]
     },
     "metadata": {},
     "output_type": "display_data"
    }
   ],
   "source": [
    "mu1=3\n",
    "sigma1=4\n",
    "size1=100\n",
    "S1=np.random.normal(mu1,sigma1,size1)\n",
    "\n",
    "mu2=5\n",
    "sigma2=9\n",
    "size2=150\n",
    "S2=np.random.normal(mu2,sigma2,size2)\n",
    "\n",
    "minn1=min(S1)\n",
    "maxx1=max(S1)\n",
    "#print(minn1,maxx1)\n",
    "\n",
    "minn2=min(S2)\n",
    "maxx2=max(S2)\n",
    "#print(minn2,maxx2)\n",
    "\n",
    "plt.hist(S1, bins=20, alpha=0.6, color='r', label=\"S1\")\n",
    "plt.hist(S2, bins=20, alpha=0.6, label=\"S2\")\n",
    "plt.legend()"
   ]
  },
  {
   "cell_type": "code",
   "execution_count": 4,
   "id": "ed5bfdf3-c74c-4e75-8136-00ba17298129",
   "metadata": {},
   "outputs": [
    {
     "name": "stdout",
     "output_type": "stream",
     "text": [
      "disp S1 =  16.788455075660057    disp S2 =  63.09976684321202\n",
      "k1 =  149    k2 =  99\n"
     ]
    }
   ],
   "source": [
    "dispS1=np.var(S1, ddof=1)\n",
    "dispS2=np.var(S2, ddof=1)\n",
    "print(\"disp S1 = \", dispS1, \"   disp S2 = \", dispS2)\n",
    "\n",
    "maxDisp=0\n",
    "minDisp=0\n",
    "k1=0  # число степеней свободы большей исправленной дисперсии\n",
    "k2=0  # число степеней свободы меньшей исправленной дисперсии\n",
    "if dispS1>dispS2:\n",
    "    maxDisp=dispS1\n",
    "    minDisp=dispS2\n",
    "    k1=size1-1\n",
    "    k2=size2-1\n",
    "else:\n",
    "    maxDisp=dispS2\n",
    "    minDisp=dispS1\n",
    "    k1=size2-1\n",
    "    k2=size1-1\n",
    "\n",
    "print(\"k1 = \",k1,\"   k2 = \",k2)"
   ]
  },
  {
   "cell_type": "code",
   "execution_count": 5,
   "id": "0174e745-2c21-431a-aefd-1f6740a24ad0",
   "metadata": {},
   "outputs": [
    {
     "name": "stdout",
     "output_type": "stream",
     "text": [
      "ПРИ КОНКУРИРУЮЩЕЙ ГИПОТЕЗЕ D(X) > D(Y):\n",
      "ПРИ УРОВНЕ ЗНАЧИМОСТИ alpha = 0.05\n",
      "F_nabl =  3.7585213504662627\n",
      "F_kr =  1.3610015887652556\n",
      "Нулевая гипотеза отвергается\n",
      "\n",
      "ПРИ КОНКУРИРУЮЩЕЙ ГИПОТЕЗЕ D(X) != D(Y):\n",
      "ПРИ УРОВНЕ ЗНАЧИМОСТИ alpha = 0.025\n",
      "F_nabl =  3.7585213504662627\n",
      "F_kr =  1.444601941210317\n",
      "Нулевая гипотеза отвергается\n"
     ]
    }
   ],
   "source": [
    "F_nabl=maxDisp / minDisp\n",
    "def res(alpha):  \n",
    "    F_kr=scipy.f.ppf(q=1-alpha, dfn=k1, dfd=k2)  # F_критическое  (по таблице Фишера-Снедекора)\n",
    "    print(\"ПРИ УРОВНЕ ЗНАЧИМОСТИ alpha =\",alpha)\n",
    "    print(\"F_nabl = \",F_nabl)\n",
    "    print(\"F_kr = \",F_kr)\n",
    "    if F_nabl<F_kr:\n",
    "        print(\"Нет оснований отвергнуть нулевую гипотезу\")\n",
    "    else:\n",
    "        print(\"Нулевая гипотеза отвергается\")\n",
    "\n",
    "print(\"ПРИ КОНКУРИРУЮЩЕЙ ГИПОТЕЗЕ D(X) > D(Y):\")\n",
    "res(0.05)\n",
    "print()\n",
    "print(\"ПРИ КОНКУРИРУЮЩЕЙ ГИПОТЕЗЕ D(X) != D(Y):\")\n",
    "res(0.025)"
   ]
  },
  {
   "cell_type": "code",
   "execution_count": 6,
   "id": "34b9ea06-9151-4118-b89e-a550ddb28862",
   "metadata": {},
   "outputs": [],
   "source": [
    "# ПУНКТ 2"
   ]
  },
  {
   "cell_type": "code",
   "execution_count": 7,
   "id": "edfd7714-40e6-4aa8-b9fe-8cf388991681",
   "metadata": {},
   "outputs": [
    {
     "data": {
      "text/plain": [
       "<matplotlib.legend.Legend at 0x25371c2a8d0>"
      ]
     },
     "execution_count": 7,
     "metadata": {},
     "output_type": "execute_result"
    },
    {
     "data": {
      "image/png": "[encoded data removed]",
      "text/plain": [
       "<Figure size 640x480 with 1 Axes>"
      ]
     },
     "metadata": {},
     "output_type": "display_data"
    }
   ],
   "source": [
    "mu1=3\n",
    "sigma1=7\n",
    "size1=10000\n",
    "S1=np.random.normal(mu1,sigma1,size1)\n",
    "\n",
    "mu2=2\n",
    "sigma2=5\n",
    "size2=7000\n",
    "S2=np.random.normal(mu2,sigma2,size2)\n",
    "\n",
    "plt.hist(S1, bins=20, alpha=0.6, color='g', label='S1')\n",
    "plt.hist(S2, bins=20, alpha=0.6, color='y', label='S2')\n",
    "\n",
    "plt.legend()"
   ]
  },
  {
   "cell_type": "code",
   "execution_count": 8,
   "id": "7414b948-726a-43fa-9e31-ceccd1e58c88",
   "metadata": {},
   "outputs": [
    {
     "name": "stdout",
     "output_type": "stream",
     "text": [
      "disp S1 = 49.04660931704145    disp S2 = 24.443779937523384\n",
      "mid S1 = 2.9449819456012496    mid S2 = 1.98821458664475\n"
     ]
    }
   ],
   "source": [
    "dispS1=np.var(S1, ddof=1)\n",
    "dispS2=np.var(S2, ddof=1)\n",
    "print(\"disp S1 =\", dispS1,\"   disp S2 =\", dispS2)\n",
    "\n",
    "midS1=np.mean(S1)\n",
    "midS2=np.mean(S2)\n",
    "print(\"mid S1 =\", midS1,\"   mid S2 =\", midS2)"
   ]
  },
  {
   "cell_type": "code",
   "execution_count": 9,
   "id": "88b36660-8e64-4491-b5a8-bc32c4522058",
   "metadata": {},
   "outputs": [],
   "source": [
    "Z_nabl=(midS1-midS2)/(np.sqrt((dispS1/size1)+(dispS2/size2)))\n",
    "\n",
    "alpha=0.05\n",
    "\n",
    "Z_kr=scipy.norm.ppf((1-alpha)/2)"
   ]
  },
  {
   "cell_type": "code",
   "execution_count": 10,
   "id": "862b913b-73c7-4274-a764-fccc6ea37b81",
   "metadata": {},
   "outputs": [
    {
     "name": "stdout",
     "output_type": "stream",
     "text": [
      "ПРИ КОНКУРИРУЮЩЕЙ ГИПОТЕЗЕ M(X) != M(Y):\n",
      "Z_nabl = 10.441282722029415\n",
      "Z_kr = -0.06270677794321385\n",
      "Нулевую гипотезу отвергают\n",
      "\n",
      "ПРИ КОНКУРИРУЮЩЕЙ ГИПОТЕЗЕ M(X) > M(Y):\n",
      "Z_nabl = 10.441282722029415\n",
      "Z_kr = -0.12566134685507402\n",
      "Нулевую гипотезу отвергают\n"
     ]
    }
   ],
   "source": [
    "if midS1!=midS2:\n",
    "    print(\"ПРИ КОНКУРИРУЮЩЕЙ ГИПОТЕЗЕ M(X) != M(Y):\")\n",
    "    print(\"Z_nabl =\",Z_nabl)\n",
    "    print(\"Z_kr =\",Z_kr)\n",
    "    if abs(Z_nabl)<Z_kr:\n",
    "        print(\"Нет оснований отвергнуть нулевую гипотезу\")\n",
    "    elif abs(Z_nabl)>Z_kr:\n",
    "         print(\"Нулевую гипотезу отвергают\")\n",
    "print()\n",
    "if midS1>midS2:\n",
    "    print(\"ПРИ КОНКУРИРУЮЩЕЙ ГИПОТЕЗЕ M(X) > M(Y):\")   \n",
    "    Z_kr=scipy.norm.ppf((1-2*alpha)/2)\n",
    "    print(\"Z_nabl =\",Z_nabl)\n",
    "    print(\"Z_kr =\",Z_kr)\n",
    "    if Z_nabl<Z_kr:\n",
    "        print(\"Нет оснований отвергнуть нулевую гипотезу\")\n",
    "    elif Z_nabl>Z_kr:\n",
    "        print(\"Нулевую гипотезу отвергают\")\n",
    "        \n",
    "if midS1<midS2:\n",
    "    print(\"ПРИ КОНКУРИРУЮЩЕЙ ГИПОТЕЗЕ M(X) < M(Y):\")\n",
    "    Z_kr=scipy.norm.ppf((1-2*alpha)/2)\n",
    "    print(\"Z_nabl =\",Z_nabl)\n",
    "    print(\"Z_kr =\",Z_kr)\n",
    "    if Z_nabl>-Z_kr:\n",
    "        print(\"Нет оснований отвергнуть нулевую гипотезу\")\n",
    "    elif Z_nabl<-Z_kr:\n",
    "        print(\"Нулевую гипотезу отвергают\")"
   ]
  },
  {
   "cell_type": "code",
   "execution_count": 11,
   "id": "8d294041-a5f0-4a20-ae40-aba3f042dd1c",
   "metadata": {},
   "outputs": [],
   "source": [
    "# ПУНКТ 3"
   ]
  },
  {
   "cell_type": "code",
   "execution_count": 12,
   "id": "3bbb2cf3-c5f5-42ac-821d-5a1b29526196",
   "metadata": {},
   "outputs": [],
   "source": [
    "sigma=12\n",
    "mu1, size1=1, 50\n",
    "mu2, size2=2, 60\n",
    "mu3, size3=7, 70\n",
    "mu4, size4=12, 80\n",
    "mu5, size5=21, 90\n",
    "\n",
    "k_i=[]  #число степеней свободы\n",
    "disp_i=[]\n",
    "\n",
    "S1=np.random.normal(mu1,sigma,size1)\n",
    "k_i.append(size1-1)\n",
    "disp_i.append(np.var(S1,ddof=1))\n",
    "\n",
    "S2=np.random.normal(mu2,sigma,size2)\n",
    "k_i.append(size2-1)\n",
    "disp_i.append(np.var(S2,ddof=1))\n",
    "\n",
    "S3=np.random.normal(mu3,sigma,size3)\n",
    "k_i.append(size3-1)\n",
    "disp_i.append(np.var(S3,ddof=1))\n",
    "\n",
    "S4=np.random.normal(mu4,sigma,size4)\n",
    "k_i.append(size4-1)\n",
    "disp_i.append(np.var(S4,ddof=1))\n",
    "\n",
    "S5=np.random.normal(mu5,sigma,size5)\n",
    "k_i.append(size5-1)\n",
    "disp_i.append(np.var(S5,ddof=1))\n",
    "\n",
    "k=0\n",
    "for elem in k_i:\n",
    "    k+=elem\n",
    "\n",
    "disp=0\n",
    "for i in range(5):\n",
    "    disp+=(k_i[i]*disp_i[i])\n",
    "disp/=k\n",
    "\n",
    "alpha=0.05"
   ]
  },
  {
   "cell_type": "code",
   "execution_count": 13,
   "id": "bd8c9177-7966-4a76-9f6b-e19f11d30d7d",
   "metadata": {},
   "outputs": [
    {
     "name": "stdout",
     "output_type": "stream",
     "text": [
      "Критическое значение хи квадрат при a=0.05 и 5 выборках: 9.487729036781154\n"
     ]
    }
   ],
   "source": [
    "chi2_kr=chi2.ppf(1-alpha, 4)   # 4=5-1\n",
    "print(\"Критическое значение хи квадрат при a=0.05 и 5 выборках:\",chi2_kr)"
   ]
  },
  {
   "cell_type": "code",
   "execution_count": 14,
   "id": "a568fb42-d80b-4236-a917-59cc6275385c",
   "metadata": {},
   "outputs": [
    {
     "name": "stdout",
     "output_type": "stream",
     "text": [
      "V = 2.370349525775391\n"
     ]
    }
   ],
   "source": [
    "sum=0\n",
    "for i in range(5):\n",
    "    sum+=(k_i[i]*np.log10(disp_i[i]))\n",
    "    \n",
    "V=2.303*(k*np.log10(disp) - sum)\n",
    "print(\"V =\",V)"
   ]
  },
  {
   "cell_type": "code",
   "execution_count": 15,
   "id": "b2684ed3-8892-4c63-99b9-5370ad1f4fb6",
   "metadata": {},
   "outputs": [
    {
     "name": "stdout",
     "output_type": "stream",
     "text": [
      "Нет основавний отвергнуть нулевую гипотезу, так как V < chi2_kr\n"
     ]
    }
   ],
   "source": [
    "if V<chi2_kr:\n",
    "    print(\"Нет основавний отвергнуть нулевую гипотезу, так как V < chi2_kr\")\n",
    "else:\n",
    "    sum=0\n",
    "    for i in range(5):\n",
    "        sum+=(1/k_i[i])\n",
    "    C=(1+1/(3*4))*(sum - 1/k)\n",
    "    B_nabl=V/C\n",
    "    print(\"B_nabl =\",B_nabl)\n",
    "    if B_nabl<chi2_kr:\n",
    "        print(\"Нет основавний отвергнуть нулевую гипотезу, так как B_nabl < chi2_kr\")\n",
    "    else:\n",
    "        print(\"Нулевая гипотеза отвергается, так как  B_nabl > chi2_kr\")\n",
    "        "
   ]
  }
 ],
 "metadata": {
  "kernelspec": {
   "display_name": "Python 3 (ipykernel)",
   "language": "python",
   "name": "python3"
  },
  "language_info": {
   "codemirror_mode": {
    "name": "ipython",
    "version": 3
   },
   "file_extension": ".py",
   "mimetype": "text/x-python",
   "name": "python",
   "nbconvert_exporter": "python",
   "pygments_lexer": "ipython3",
   "version": "3.11.7"
  }
 },
 "nbformat": 4,
 "nbformat_minor": 5
}
